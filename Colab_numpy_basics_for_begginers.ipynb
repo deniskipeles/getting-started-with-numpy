{
  "metadata": {
    "kernelspec": {
      "language": "python",
      "display_name": "Python 3",
      "name": "python3"
    },
    "language_info": {
      "name": "python",
      "version": "3.10.12",
      "mimetype": "text/x-python",
      "codemirror_mode": {
        "name": "ipython",
        "version": 3
      },
      "pygments_lexer": "ipython3",
      "nbconvert_exporter": "python",
      "file_extension": ".py"
    },
    "kaggle": {
      "accelerator": "none",
      "dataSources": [],
      "dockerImageVersionId": 30918,
      "isInternetEnabled": true,
      "language": "python",
      "sourceType": "notebook",
      "isGpuEnabled": false
    },
    "colab": {
      "provenance": [],
      "include_colab_link": true
    }
  },
  "nbformat_minor": 0,
  "nbformat": 4,
  "cells": [
    {
      "cell_type": "markdown",
      "metadata": {
        "id": "view-in-github",
        "colab_type": "text"
      },
      "source": [
        "<a href=\"https://colab.research.google.com/github/deniskipeles/getting-started-with-numpy/blob/main/Colab_numpy_basics_for_begginers.ipynb\" target=\"_parent\"><img src=\"https://colab.research.google.com/assets/colab-badge.svg\" alt=\"Open In Colab\"/></a>"
      ]
    },
    {
      "cell_type": "markdown",
      "source": [
        "# **NumPy Basics for Beginners**\n",
        "\n",
        "## **What is NumPy?**\n",
        "- A Python library for numerical computing\n",
        "- Provides **multidimensional arrays** (like grids of numbers)\n",
        "- Faster than regular Python lists for mathematical operations\n",
        "\n",
        "## **Real-World Applications**\n",
        "1. Machine Learning (data preprocessing)\n",
        "2. Data Analysis (statistical calculations)\n",
        "3. Image Processing (pixel arrays)\n",
        "4. Physics Simulations (3D calculations)\n",
        "5. Financial Modeling (stock price analysis)"
      ],
      "metadata": {
        "_uuid": "8f2839f25d086af736a60e9eeb907d3b93b6e0e5",
        "_cell_guid": "b1076dfc-b9ad-4769-8c92-a6c4dae69d19",
        "id": "9-q9WB0TTEEL"
      }
    },
    {
      "cell_type": "markdown",
      "source": [
        "## **1. Installation & Setup**"
      ],
      "metadata": {
        "id": "NzvxVJesTEEN"
      }
    },
    {
      "cell_type": "code",
      "source": [
        "# If you don't have NumPy:\n",
        "!pip install numpy\n",
        "\n",
        "# Import the library\n",
        "import numpy as np"
      ],
      "metadata": {
        "trusted": true,
        "execution": {
          "iopub.status.busy": "2025-03-24T06:57:25.347531Z",
          "iopub.execute_input": "2025-03-24T06:57:25.347843Z",
          "iopub.status.idle": "2025-03-24T06:57:31.012712Z",
          "shell.execute_reply.started": "2025-03-24T06:57:25.347805Z",
          "shell.execute_reply": "2025-03-24T06:57:31.011412Z"
        },
        "id": "YPSDc0K8TEEO",
        "outputId": "2c5ea5c2-66a0-4d77-9155-00446507f07a",
        "colab": {
          "base_uri": "https://localhost:8080/"
        }
      },
      "outputs": [
        {
          "output_type": "stream",
          "name": "stdout",
          "text": [
            "Requirement already satisfied: numpy in /usr/local/lib/python3.11/dist-packages (2.0.2)\n"
          ]
        }
      ],
      "execution_count": null
    },
    {
      "cell_type": "markdown",
      "source": [
        "## **2. Creating Arrays**"
      ],
      "metadata": {
        "id": "Hei6Q-e1TEEO"
      }
    },
    {
      "cell_type": "code",
      "source": [
        "# From a Python list\n",
        "numbers = np.array([1, 2, 3, 4])\n",
        "print(\"1D Array:\", numbers)\n",
        "\n",
        "# 2D array (matrix)\n",
        "matrix = np.array([[1, 2, 3], [4, 5, 6]])\n",
        "print(\"\\n2D Array:\\n\", matrix)\n",
        "\n",
        "# Special arrays\n",
        "zeros = np.zeros((2, 3))  # 2x3 grid of zeros\n",
        "ones = np.ones((3, 2))    # 3x2 grid of ones\n",
        "range_array = np.arange(0, 10, 2)  # Like range(): 0-8, step 2\n",
        "\n",
        "print(\"\\nZeros:\\n\", zeros)\n",
        "print(\"\\nOnes:\\n\", ones)\n",
        "print(\"\\nRange array:\", range_array)"
      ],
      "metadata": {
        "trusted": true,
        "execution": {
          "iopub.status.busy": "2025-03-24T07:02:06.580023Z",
          "iopub.execute_input": "2025-03-24T07:02:06.580391Z",
          "iopub.status.idle": "2025-03-24T07:02:06.593226Z",
          "shell.execute_reply.started": "2025-03-24T07:02:06.580363Z",
          "shell.execute_reply": "2025-03-24T07:02:06.592124Z"
        },
        "id": "Nq8oXfACTEEP",
        "outputId": "a724d9e6-5ea2-4d98-97fd-abddd9ad3ca1",
        "colab": {
          "base_uri": "https://localhost:8080/"
        }
      },
      "outputs": [
        {
          "output_type": "stream",
          "name": "stdout",
          "text": [
            "1D Array: [1 2 3 4]\n",
            "\n",
            "2D Array:\n",
            " [[1 2 3]\n",
            " [4 5 6]]\n",
            "\n",
            "Zeros:\n",
            " [[0. 0. 0.]\n",
            " [0. 0. 0.]]\n",
            "\n",
            "Ones:\n",
            " [[1. 1.]\n",
            " [1. 1.]\n",
            " [1. 1.]]\n",
            "\n",
            "Range array: [0 2 4 6 8]\n"
          ]
        }
      ],
      "execution_count": null
    },
    {
      "cell_type": "markdown",
      "source": [
        "\n",
        "\n",
        "Detailed breakdown of **`np.zeros()`, `np.ones()`, and `np.arange()`** for array initialization in NumPy:\n",
        "\n",
        "---\n",
        "\n",
        "### **1. `np.zeros(shape, dtype=float, order='C')`**\n",
        "- **Purpose**: Creates an array filled with **zeros** of the specified shape and data type.  \n",
        "- **Parameters**:  \n",
        "  - `shape`: Tuple defining the array dimensions (e.g., `(2, 3)` for a 2x3 matrix).  \n",
        "  - `dtype`: Optional (default is `float64`). Specify the data type (e.g., `int`, `float`).  \n",
        "  - `order`: Optional (row-major/C-style or column-major/F-style memory layout).  \n",
        "\n",
        "**Example from our code**:  \n",
        "```python\n",
        "zeros = np.zeros((2, 3))  \n",
        "# Output:  \n",
        "# [[0. 0. 0.]  \n",
        "#  [0. 0. 0.]]  \n",
        "```  \n",
        "- Creates a **2x3 array** of **floating-point zeros** (default `dtype`).  \n",
        "\n",
        "---\n",
        "\n",
        "### **2. `np.ones(shape, dtype=None, order='C')`**  \n",
        "- **Purpose**: Creates an array filled with **ones** of the specified shape and data type.  \n",
        "- **Parameters**: Similar to `np.zeros()`.  \n",
        "\n",
        "**Example from our code**:  \n",
        "```python\n",
        "ones = np.ones((3, 2))  \n",
        "# Output:  \n",
        "# [[1 1]  \n",
        "#  [1 1]  \n",
        "#  [1 1]]  \n",
        "```  \n",
        "- Creates a **3x2 array** of **integers** (defaults to `int` if no `dtype` is specified).  \n",
        "\n",
        "---\n",
        "\n",
        "### **3. `np.arange([start], stop, [step], dtype=None)`**  \n",
        "- **Purpose**: Generates a **1D array** of evenly spaced values within a range.  \n",
        "- **Parameters**:  \n",
        "  - `start`: Starting value (default: `0`).  \n",
        "  - `stop`: End of interval (the array stops **before** this value).  \n",
        "  - `step`: Increment between values (default: `1`).  \n",
        "  - `dtype`: Data type (inferred from `start`, `stop`, `step` if not provided).  \n",
        "\n",
        "**Example from our code**:  \n",
        "```python\n",
        "range_array = np.arange(0, 10, 2)  \n",
        "# Output: [0 2 4 6 8]  \n",
        "```  \n",
        "- Starts at `0`, increments by `2`, stops **before** `10`.  \n",
        "- Behaves like Python’s `range()`, but returns a **NumPy array** instead of a list.  \n",
        "\n",
        "---\n",
        "\n",
        "### **Key Differences from Vanilla Python**  \n",
        "| NumPy Function     | Python Equivalent      |  \n",
        "|--------------------|------------------------|\n",
        "| `np.zeros((n,))`   | `[0] * n` (for lists)  |                            \n",
        "| `np.ones((n,))`    | `[1] * n` (for lists)  |                            \n",
        "| `np.arange(a, b)`  | `range(a, b)`          |                             \n",
        "\n",
        "---\n",
        "\n",
        "### **Why Use These Functions?**  \n",
        "- **Efficiency**: NumPy arrays are faster and use less memory than Python lists.  \n",
        "- **Vectorization**: Designed for mathematical operations (e.g., `zeros` for preallocating arrays).  \n",
        "- **Flexibility**: Easily create arrays of any shape/dtype for computations.  \n",
        "\n",
        "---\n",
        "\n",
        "### **Common Use Cases**  \n",
        "- **`zeros`**:  \n",
        "  - Preallocate memory for results in algorithms.  \n",
        "  - Initialize weight matrices in neural networks.  \n",
        "- **`ones`**:  \n",
        "  - Create default matrices for probability distributions.  \n",
        "  - Initialize counters or placeholders.  \n",
        "- **`arange`**:  \n",
        "  - Generate sequences for plotting or indices.  \n",
        "  - Create time steps for simulations.  \n",
        "\n",
        "---\n",
        "\n",
        "### **Edge Cases & Tips**  \n",
        "- **Data Types**:  \n",
        "  ```python  \n",
        "  np.zeros((2, 2), dtype=int)  # 2x2 integers  \n",
        "  np.arange(0, 5, 0.5)        # Handles floating-point steps: [0.0, 0.5, 1.0, ..., 4.5]  \n",
        "  ```  \n",
        "- **1D vs. Multi-Dimensional**:  \n",
        "  ```python  \n",
        "  np.zeros(5)       # 1D array of 5 zeros.  \n",
        "  np.zeros((3, 3))  # 3x3 2D array.  \n",
        "  ```  \n",
        "- **Avoiding Floating-Point Zeros**:  \n",
        "  Use `dtype=int` if you want integer zeros (e.g., `np.zeros((2,3), dtype=int)`).  \n"
      ],
      "metadata": {
        "id": "wy7hfjmRTEEP"
      }
    },
    {
      "cell_type": "markdown",
      "source": [
        "## **3. Array Properties**"
      ],
      "metadata": {
        "id": "kqoUuDMxTEEQ"
      }
    },
    {
      "cell_type": "code",
      "source": [
        "arr = np.array([[1, 2, 3], [4, 5, 6]])\n",
        "\n",
        "print(\"Shape:\", arr.shape)  # (rows, columns) → (2, 3)\n",
        "print(\"Size:\", arr.size)     # Total elements → 6\n",
        "print(\"Dimensions:\", arr.ndim)  # 2 (2D array)\n",
        "print(\"Data type:\", arr.dtype)  # int32 or float64"
      ],
      "metadata": {
        "trusted": true,
        "execution": {
          "iopub.status.busy": "2025-03-24T07:03:22.84196Z",
          "iopub.execute_input": "2025-03-24T07:03:22.84243Z",
          "iopub.status.idle": "2025-03-24T07:03:22.852577Z",
          "shell.execute_reply.started": "2025-03-24T07:03:22.842397Z",
          "shell.execute_reply": "2025-03-24T07:03:22.850896Z"
        },
        "id": "QWOW_W2STEER",
        "outputId": "140b2308-76b4-432a-a6f0-50610347766c",
        "colab": {
          "base_uri": "https://localhost:8080/"
        }
      },
      "outputs": [
        {
          "output_type": "stream",
          "name": "stdout",
          "text": [
            "Shape: (2, 3)\n",
            "Size: 6\n",
            "Dimensions: 2\n",
            "Data type: int64\n"
          ]
        }
      ],
      "execution_count": null
    },
    {
      "cell_type": "markdown",
      "source": [
        "##### Detailed explanation of the code and the outputs:\n",
        "\n",
        "### **Output Explanation**  \n",
        "1. **`arr.shape`**:  \n",
        "   - Returns the **dimensions** of the array as a tuple.  \n",
        "   - Output: `(2, 3)` → 2 rows, 3 columns.  \n",
        "   - Example:  \n",
        "     ```python  \n",
        "     # (rows, columns) → (2, 3) for this array.  \n",
        "     ```\n",
        "\n",
        "2. **`arr.size`**:  \n",
        "   - Returns the **total number of elements** in the array.  \n",
        "   - Output: `6` → 2 rows × 3 columns = 6 elements.  \n",
        "\n",
        "3. **`arr.ndim`**:  \n",
        "   - Returns the **number of dimensions** (axes) of the array.  \n",
        "   - Output: `2` → 2D array (rows and columns).  \n",
        "\n",
        "4. **`arr.dtype`**:  \n",
        "   - Returns the **data type** of the elements in the array.  \n",
        "   - Output: `int32` or `int64` (depends on system) → Elements are integers.  \n",
        "\n",
        "---\n",
        "\n",
        "### **Key Concepts**  \n",
        "#### **1. `arr.shape`**  \n",
        "- **Purpose**: Reveals the array’s dimensions.  \n",
        "- **Example**:  \n",
        "  ```python  \n",
        "  # 3D array example:  \n",
        "  arr_3d = np.array([[[1], [2]], [[3], [4]]])  \n",
        "  print(arr_3d.shape) → (2, 2, 1)  \n",
        "  ```  \n",
        "\n",
        "#### **2. `arr.size`**  \n",
        "- **Purpose**: Total elements = product of all dimensions.  \n",
        "- **Formula**:  \n",
        "  ```python  \n",
        "  size = arr.shape[0] * arr.shape[1] * ... for all dimensions.  \n",
        "  ```\n",
        "\n",
        "#### **3. `arr.ndim`**  \n",
        "- **Purpose**: Number of axes (dimensions).  \n",
        "- Examples:  \n",
        "  - 1D: `[1, 2, 3]` → `ndim=1`.  \n",
        "  - 3D: `[[[1]], [[2]]]` → `ndim=3`.  \n",
        "\n",
        "#### **4. `arr.dtype`**  \n",
        "- **Purpose**: Shows the data type of elements (e.g., `int32`, `float64`, `bool`).  \n",
        "- **Control with `dtype` parameter**:  \n",
        "  ```python  \n",
        "  arr_float = np.array([1, 2, 3], dtype=float) → dtype=float64  \n",
        "  arr_bool = np.array([True, False]) → dtype=bool  \n",
        "  ```\n",
        "\n",
        "---\n",
        "\n",
        "### **Why These Attributes Matter**  \n",
        "- **Shape/Dimensions**: Critical for ensuring arrays are compatible for operations (e.g., matrix multiplication).  \n",
        "- **Data Type**: Ensures correct precision/compatibility (e.g., `float64` for decimals).  \n",
        "- **Size**: Useful for memory management and algorithm optimization.  \n",
        "\n",
        "---\n",
        "\n",
        "### **Common Pitfalls**  \n",
        "- **`shape` vs. `size`**:  \n",
        "  ```python  \n",
        "  arr.shape → (2, 3)  # Dimensions  \n",
        "  arr.size → 6        # Total elements  \n",
        "  ```  \n",
        "- **Default `dtype`**:  \n",
        "  - Integers → `int32`/`int64`.  \n",
        "  - Floats → `float64`.  \n",
        "  - Strings → `object` (if mixed data types).  \n"
      ],
      "metadata": {
        "id": "yeLUpGUjTEER"
      }
    },
    {
      "cell_type": "markdown",
      "source": [
        "## **4. Basic Operations**"
      ],
      "metadata": {
        "id": "ksGizFbVTEES"
      }
    },
    {
      "cell_type": "code",
      "source": [
        "a = np.array([1, 2, 3])\n",
        "b = np.array([4, 5, 6])\n",
        "\n",
        "# Element-wise operations\n",
        "print(\"a + b:\", a + b)  # [5 7 9]\n",
        "print(\"a * 2:\", a * 2)  # [2 4 6]\n",
        "\n",
        "# Mathematical functions\n",
        "print(\"Square root:\", np.sqrt(a))  # [1.  1.414 1.732]\n",
        "print(\"Exponential:\", np.exp(a))   # [ 2.718  7.389 20.085]"
      ],
      "metadata": {
        "trusted": true,
        "execution": {
          "iopub.status.busy": "2025-03-24T07:12:31.031901Z",
          "iopub.execute_input": "2025-03-24T07:12:31.032268Z",
          "iopub.status.idle": "2025-03-24T07:12:31.042093Z",
          "shell.execute_reply.started": "2025-03-24T07:12:31.032242Z",
          "shell.execute_reply": "2025-03-24T07:12:31.040968Z"
        },
        "id": "WyG92zz8TEES",
        "outputId": "01715bfc-afcf-44df-9edf-415b0a48e8cb",
        "colab": {
          "base_uri": "https://localhost:8080/"
        }
      },
      "outputs": [
        {
          "output_type": "stream",
          "name": "stdout",
          "text": [
            "a + b: [5 7 9]\n",
            "a * 2: [2 4 6]\n",
            "Square root: [1.         1.41421356 1.73205081]\n",
            "Exponential: [ 2.71828183  7.3890561  20.08553692]\n"
          ]
        }
      ],
      "execution_count": null
    },
    {
      "cell_type": "markdown",
      "source": [
        "##### Detailed explanation of the code and its operations:\n",
        "\n",
        "### **Key Concepts**  \n",
        "#### **1. Element-Wise Operations**  \n",
        "- **`a + b`**:  \n",
        "  - Adds corresponding elements of `a` and `b`.  \n",
        "  - **Requirement**: Arrays must have **matching shapes** (same dimensions).  \n",
        "  - **Output**: `[5, 7, 9]` (since `[1+4, 2+5, 3+6]`).  \n",
        "\n",
        "- **`a * 2`**:  \n",
        "  - Multiplies each element in `a` by `2`.  \n",
        "  - **Output**: `[2, 4, 6]`.  \n",
        "\n",
        "---\n",
        "\n",
        "#### **2. Scalar Multiplication vs. Matrix Multiplication**  \n",
        "- **Scalar Multiplication** (`a * 2`):  \n",
        "  - Scales each element by a scalar (single number).  \n",
        "- **Matrix Multiplication**:  \n",
        "  - Requires `np.dot(a, b)` or `@` operator (not shown here).  \n",
        "\n",
        "---\n",
        "\n",
        "#### **3. Universal Functions (ufuncs)**  \n",
        "Functions like `np.sqrt` and `np.exp` apply **element-wise** to arrays:  \n",
        "- **`np.sqrt(a)`**:  \n",
        "  - Computes √1, √2, √3 → `[1.0, ~1.414, ~1.732]`.  \n",
        "- **`np.exp(a)`**:  \n",
        "  - Computes e¹, e², e³ → `[2.718..., 7.389..., 20.085...]`.  \n",
        "- **Output Type**:  \n",
        "  - Results are **floats**, even if inputs are integers.  \n",
        "\n",
        "---\n",
        "\n",
        "### **Output Details**  \n",
        "1. **`a + b`**:  \n",
        "   - **Result**: `[5 7 9]` (integer array if inputs are integers).  \n",
        "\n",
        "2. **`a * 2`**:  \n",
        "   - **Result**: `[2 4 6]`.  \n",
        "\n",
        "3. **`np.sqrt(a)`**:  \n",
        "   - **Result**: `[1.         1.41421356 1.73205081]`.  \n",
        "\n",
        "4. **`np.exp(a)`**:  \n",
        "   - **Result**: `[2.71828183 7.3890561  20.08553692]`.  \n",
        "\n",
        "---\n",
        "\n",
        "### **Critical Features**  \n",
        "- **Vectorization**:  \n",
        "  - Operations are applied to **all elements simultaneously**, eliminating the need for loops.  \n",
        "- **Broadcasting**:  \n",
        "  - Automatic alignment of arrays for operations (works here since `a` and `b` have the same shape).  \n",
        "\n",
        "---\n",
        "\n",
        "### **Edge Cases & Notes**  \n",
        "- **Shape Mismatch**:  \n",
        "  - `a + b` would fail if their shapes differ (unless broadcasting rules apply).  \n",
        "- **Data Type Promotion**:  \n",
        "  - Mixing integers and floats:  \n",
        "    ```python  \n",
        "    a_float = a.astype(float)  \n",
        "    a_float + b → floats.  \n",
        "    ```  \n",
        "- **In-Place Operations**:  \n",
        "  - Use `+=`, `*=`, etc., to modify arrays in place.  \n",
        "\n",
        "---\n",
        "\n",
        "### **Why This Matters**  \n",
        "- **Efficiency**: Vectorized operations are **~10-100x faster** than Python loops.  \n",
        "- **Readability**: Simplifies code (e.g., `a + b` vs. looping over elements).  "
      ],
      "metadata": {
        "id": "UNcN5HwBTEES"
      }
    },
    {
      "cell_type": "markdown",
      "source": [
        "## **5. Aggregation/Statistical  Functions**"
      ],
      "metadata": {
        "id": "da-zqtY2TEET"
      }
    },
    {
      "cell_type": "code",
      "source": [
        "temps = np.array([22.5, 23.7, 24.3, 21.8, 19.4])\n",
        "\n",
        "# methods of the ndarray class\n",
        "print(\"Max temperature:\", temps.max())  # 24.3\n",
        "print(\"Average:\", temps.mean())         # 22.34\n",
        "print(\"Total sum:\", temps.sum())         # 111.7\n",
        "print(\"Standard Deviation:\", temps.std())  # 1.712\n",
        "# The median() function is not implemented as a method of the ndarray class. Instead, it is a standalone function in the NumPy library.\n",
        "print(\"Median:\", np.median(temps))    # 22.5"
      ],
      "metadata": {
        "trusted": true,
        "execution": {
          "iopub.status.busy": "2025-03-24T07:23:16.927822Z",
          "iopub.execute_input": "2025-03-24T07:23:16.928219Z",
          "iopub.status.idle": "2025-03-24T07:23:16.941697Z",
          "shell.execute_reply.started": "2025-03-24T07:23:16.92819Z",
          "shell.execute_reply": "2025-03-24T07:23:16.940365Z"
        },
        "id": "M-bs9V0vTEET",
        "outputId": "5e750f7b-1a13-4e45-cb73-5b08067b2fc7",
        "colab": {
          "base_uri": "https://localhost:8080/"
        }
      },
      "outputs": [
        {
          "output_type": "stream",
          "name": "stdout",
          "text": [
            "Max temperature: 24.3\n",
            "Average: 22.339999999999996\n",
            "Total sum: 111.69999999999999\n",
            "Standard Deviation: 1.711841114122453\n",
            "Median: 22.5\n"
          ]
        }
      ],
      "execution_count": null
    },
    {
      "cell_type": "markdown",
      "source": [
        "### Detailed Explanation of Aggregation/Statistical Functions\n",
        "\n",
        "---\n",
        "\n",
        "### **Code Breakdown**\n",
        "```python\n",
        "temps = np.array([22.5, 23.7, 24.3, 21.8, 19.4])\n",
        "print(\"Max temperature:\", temps.max())        # Maximum value\n",
        "print(\"Average:\", temps.mean())           # Mean value\n",
        "print(\"Total sum:\", temps.sum())           # Sum of all elements\n",
        "print(\"Standard Deviation:\", temps.std())  # Population standard deviation\n",
        "print(\"Median:\", np.median(temps)          # Median (calculated via numpy's standalone function)\n",
        "```\n",
        "\n",
        "---\n",
        "\n",
        "### **Function Explanations**\n",
        "\n",
        "#### **1. `temps.max()`**  \n",
        "- **Purpose**: Returns the **maximum value** in the array.  \n",
        "- **Output**: `24.3` (largest value in `temps`).  \n",
        "- **Formula**: `max(22.5, 23.7, 24.3, 21.8, 19.4) = 24.3`.  \n",
        "\n",
        "---\n",
        "\n",
        "#### **2. `temps.mean()`**  \n",
        "- **Purpose**: Computes the **average** of the array.  \n",
        "- **Output**: `22.34` (sum divided by count).  \n",
        "- **Formula**:  \n",
        "  $$\n",
        "  \\text{Mean} = \\frac{22.5 + 23.7 + 24.3 + 21.8 + 19.4}{5} = 22.34\n",
        "  $$\n",
        "\n",
        "---\n",
        "\n",
        "#### **3. `temps.sum()`**  \n",
        "- **Purpose**: Sums **all elements** in the array.  \n",
        "- **Output**: `111.7` (22.5 + 23.7 + 24.3 + 21.8 + 19.4 = 111.7).  \n",
        "\n",
        "---\n",
        "\n",
        "#### **4. `temps.std()`**  \n",
        "- **Purpose**: Computes the **standard deviation**, a measure of data spread.  \n",
        "- **Output**: `1.712` (rounded).  \n",
        "- **Formula**:  \n",
        "  - **Population Standard Deviation** (default in `np.std()`):  \n",
        "    $$\n",
        "    \\sigma = \\sqrt{\\frac{\\sum (x_i - \\mu)^2}{N}}\n",
        "    $$\n",
        "    - `N = 5` (number of elements).  \n",
        "    - Calculation:  \n",
        "      - Squared deviations sum: ~14.652 (detailed in prior calculations).  \n",
        "      - Variance: $14.652 / 5 ≈ 2.9304$.  \n",
        "      - Standard deviation: $\\sqrt{2.9304} ≈ 1.712$.  \n",
        "  - To compute **sample standard deviation** (divide by \\(N-1\\)), use `temps.std(ddof=1)`.  \n",
        "\n",
        "---\n",
        "\n",
        "#### **5. `np.median(temps)`**  \n",
        "- **Purpose**: Returns the **median** (middle value of sorted data).  \n",
        "- **Output**: `22.5` (sorted array: `[19.4, 21.8, 22.5, 23.7, 24.3]`; middle value is the 3rd element.  \n",
        "- **Why a Standalone Function?**: The median requires sorting the array, which isn’t a trivial array attribute like `max()` or `mean()`, so it’s implemented as a standalone function.  \n",
        "\n",
        "---\n",
        "\n",
        "### **Key Observations**  \n",
        "- **Vectorization**: All operations are applied across the entire array efficiently.  \n",
        "- **Data Type**: Results are **floats**, even if inputs are integers.  \n",
        "- **Axis Parameter**: For multi-dimensional arrays, use `axis=` to specify the dimension (e.g., `axis=0` for column-wise operations in 2D arrays).  \n",
        "\n",
        "---\n",
        "\n",
        "### **Why These Functions Matter**  \n",
        "- **Efficiency**: NumPy’s C-backend calculations are **~10-100x faster** than pure Python loops.  \n",
        "- **Convenience**: One-line statistical summaries for large datasets.  \n",
        "\n",
        "---\n",
        "\n",
        "### **Common Use Cases**  \n",
        "| Function         | Use Case                          |  \n",
        "|------------------|-----------------------------------|  \n",
        "| `.max()`, `.min()` | Find extremes in data.          |  \n",
        "| `.mean()`, `.sum()` | Compute averages or totals.     |  \n",
        "| `.std()`, `.var()` | Analyze data spread.            |  \n",
        "| `np.median()`     | Robust central tendency metric.  |  \n",
        "\n",
        "---\n",
        "\n",
        "### **Edge Cases & Notes**  \n",
        "1. **Standard Deviation**:  \n",
        "   - Use `ddof=1` for sample standard deviation (divided by $N-1$).  \n",
        "   - Example:  \n",
        "     ```python  \n",
        "     sample_std = temps.std(ddof=1) → ~1.84 (for this dataset).  \n",
        "     ```  \n",
        "\n",
        "2. **Median Calculation**:  \n",
        "   - For even-length arrays, the median averages the two middle values.  \n",
        "\n",
        "3. **Empty Arrays**:  \n",
        "   - Functions return `nan` or errors if the array is empty.  \n",
        "\n",
        "---\n",
        "\n",
        "### **Why `median` is a Standalone Function**  \n",
        "- `np.median()` requires sorting the array and finding the middle value, which is more computationally involved than `.max()` or `.mean()`.  \n",
        "\n",
        "---\n",
        "\n",
        "### **Example Calculations**  \n",
        "Let’s verify `std()` manually (population SD):  \n",
        "1. **Mean**: $22.34$\n",
        "2. **Squared deviations**:  \n",
        "   $$\n",
        "   (22.5 - 22.34)^2 = 0.0256 \\\\\n",
        "   (23.7 - 22.34)^2 = 1.8496 \\\\\n",
        "   (24.3 - 22.34)^2 = 3.8416 \\\\\n",
        "   (21.8 - 22.34)^2 = 0.2916 \\\\\n",
        "   (19.4 - 22.34)^2 = 8.6436 \\\\\n",
        "   $$\n",
        "   **Sum**: $0.0256 + 1.8496 + 3.8416 + 0.2916 + 8.6436 = 14.652$\n",
        "   \n",
        "   **Variance**: $14.652 / 5 ≈ 2.9304  $\n",
        "   \n",
        "   **Standard Deviation**: $\\sqrt{2.9304} ≈ 1.712$.  \n",
        "\n",
        "---\n",
        "\n",
        "### **Why Use These Functions?**  \n",
        "- **Speed**: NumPy’s optimized C-based computations.  \n",
        "- **Simplicity**: One-line statistical summaries.  \n",
        "- **Robustness**: Handle large datasets effortlessly.  \n",
        "\n",
        "---\n",
        "\n",
        "### **Practice Tip**  \n",
        "For a 2D array:  \n",
        "```python  \n",
        "matrix = np.array([[1, 2], [3, 4]])  \n",
        "print(matrix.sum(axis=0)) → [4, 6]  # Sum along columns  \n",
        "```  "
      ],
      "metadata": {
        "id": "VUea_LLKTEET"
      }
    },
    {
      "cell_type": "markdown",
      "source": [
        "## **6. Reshaping Arrays**"
      ],
      "metadata": {
        "id": "hxTL88dsTEET"
      }
    },
    {
      "cell_type": "code",
      "source": [
        "original = np.arange(1, 7)  # [1 2 3 4 5 6]\n",
        "reshaped = original.reshape(2, 3)\n",
        "\n",
        "print(\"Original shape:\", original.shape)  # (6,)\n",
        "print(\"Reshaped:\\n\", reshaped) #[[1 2 3]\\n[4 5 6]]"
      ],
      "metadata": {
        "trusted": true,
        "execution": {
          "iopub.status.busy": "2025-03-24T07:43:04.644585Z",
          "iopub.execute_input": "2025-03-24T07:43:04.644984Z",
          "iopub.status.idle": "2025-03-24T07:43:04.65194Z",
          "shell.execute_reply.started": "2025-03-24T07:43:04.644953Z",
          "shell.execute_reply": "2025-03-24T07:43:04.65079Z"
        },
        "id": "wSAOMXs-TEET",
        "outputId": "32dc3623-623b-44c6-e271-0aa39e8f07df",
        "colab": {
          "base_uri": "https://localhost:8080/"
        }
      },
      "outputs": [
        {
          "output_type": "stream",
          "name": "stdout",
          "text": [
            "Original shape: (6,)\n",
            "Reshaped:\n",
            " [[1 2 3]\n",
            " [4 5 6]]\n"
          ]
        }
      ],
      "execution_count": null
    },
    {
      "cell_type": "markdown",
      "source": [
        "##### Detail explanation.\n",
        "In NumPy, **reshaping arrays** changes the dimensions of an array while keeping its data intact.  \n",
        "\n",
        "### Example Breakdown:\n",
        "1. **Original Array**:  \n",
        "   `original = np.arange(1, 7)` creates a **1D array**: `[1, 2, 3, 4, 5, 6]`.  \n",
        "   Its shape is `(6,)` (6 elements in a single dimension).  \n",
        "\n",
        "2. **Reshaping**:  \n",
        "   `original.reshape(2, 3)` converts this into a **2D array** with:  \n",
        "   - 2 rows (`2`),  \n",
        "   - 3 columns (`3`).  \n",
        "\n",
        "   The total elements must match: `2 × 3 = 6` (same as original length).  \n",
        "\n",
        "3. **Result**:  \n",
        "   ```python\n",
        "   [[1 2 3]\n",
        "    [4 5 6]]\n",
        "   ```  \n",
        "   The shape becomes `(2, 3)` (2 rows, 3 columns).  \n",
        "\n",
        "### Key Points:\n",
        "- **Data remains the same**, just arranged differently.  \n",
        "- The new shape must preserve the total number of elements.  \n",
        "- Reshape returns a **new array**; the original remains unchanged.  \n",
        "\n",
        "### Why Use It?  \n",
        "Reshaping is used to prepare data for operations requiring specific dimensions (e.g., matrices for math operations or input for ML models)."
      ],
      "metadata": {
        "id": "1sc4HG3kTEET"
      }
    },
    {
      "cell_type": "markdown",
      "source": [
        "## **7. Real-World Example: Image Processing**"
      ],
      "metadata": {
        "id": "M573nG0BTEEU"
      }
    },
    {
      "cell_type": "code",
      "source": [
        "# Simulate RGB image (3 color channels)\n",
        "image = np.random.randint(0, 256, (128, 128, 3), dtype=np.uint8)\n",
        "print(\"Image shape (height, width, channels):\", image.shape)\n",
        "\n",
        "# Convert to grayscale (average RGB values)\n",
        "grayscale = image.mean(axis=2)\n",
        "print(\"Grayscale shape:\", grayscale.shape)"
      ],
      "metadata": {
        "trusted": true,
        "execution": {
          "iopub.status.busy": "2025-03-24T07:49:32.164714Z",
          "iopub.execute_input": "2025-03-24T07:49:32.165115Z",
          "iopub.status.idle": "2025-03-24T07:49:32.173337Z",
          "shell.execute_reply.started": "2025-03-24T07:49:32.165087Z",
          "shell.execute_reply": "2025-03-24T07:49:32.172366Z"
        },
        "id": "BxEKiDWeTEEU",
        "outputId": "bf809335-9b96-44a4-e5c6-b37d709bbbad",
        "colab": {
          "base_uri": "https://localhost:8080/"
        }
      },
      "outputs": [
        {
          "output_type": "stream",
          "name": "stdout",
          "text": [
            "Image shape (height, width, channels): (128, 128, 3)\n",
            "Grayscale shape: (128, 128)\n"
          ]
        }
      ],
      "execution_count": null
    },
    {
      "cell_type": "markdown",
      "source": [
        "##### Here's a detailed explanation of the image processing example:\n",
        "\n",
        "### Example Breakdown:\n",
        "1. **Simulated RGB Image**  \n",
        "   ```python\n",
        "   image = np.random.randint(0, 256, (128, 128, 3), dtype=np.uint8)\n",
        "   ```\n",
        "   - Creates a **3D array** simulating an RGB image:  \n",
        "     - `128x128` pixels (height × width)  \n",
        "     - `3` color channels (Red, Green, Blue)  \n",
        "   - Each pixel has 3 values between 0-255 (standard 8-bit color depth).  \n",
        "   - Shape: `(128, 128, 3)`  \n",
        "\n",
        "2. **Grayscale Conversion**  \n",
        "   ```python\n",
        "   grayscale = image.mean(axis=2)\n",
        "   ```\n",
        "   - `axis=2` targets the **3rd dimension** (color channels).  \n",
        "   - Computes the **average of RGB values** for each pixel:  \n",
        "     ```python\n",
        "     grayscale_value = (R + G + B) / 3\n",
        "     ```\n",
        "   - Removes the color channel dimension (from 3D → 2D).  \n",
        "   - New shape: `(128, 128)`  \n",
        "\n",
        "3. **Output**:  \n",
        "   ```python\n",
        "   Original shape: (128, 128, 3)  \n",
        "   Grayscale shape: (128, 128)\n",
        "   ```\n",
        "\n",
        "---\n",
        "\n",
        "### Key Concepts:\n",
        "1. **Axis Parameter**:  \n",
        "   - `axis=2` operates along the 3rd dimension (color channels).  \n",
        "   - Think of it as \"collapsing\" the color dimension by averaging.  \n",
        "\n",
        "2. **Dimensionality Reduction**:  \n",
        "   - Original: 3D (height, width, channels)  \n",
        "   - After `.mean(axis=2)`: 2D (height, width)  \n",
        "\n",
        "3. **Grayscale Math**:  \n",
        "   - Each pixel's brightness is computed from its RGB values.  \n",
        "   - Other methods (like luminance weighting) exist, but averaging is simplest here.  \n",
        "\n",
        "---\n",
        "\n",
        "### Why This Matters:\n",
        "- **Image Processing**:  \n",
        "  Reduces color information to simplify analysis (e.g., edge detection, compression).  \n",
        "\n",
        "- **Machine Learning**:  \n",
        "  Converts color images to grayscale to reduce computational load.  \n",
        "\n",
        "- **Data Analysis**:  \n",
        "  Demonstrates manipulating multidimensional data along specific axes.  \n",
        "\n",
        "---\n",
        "\n",
        "### Common Mistakes to Avoid:\n",
        "- **Shape Mismatch**:  \n",
        "  Ensure the operation aligns with your data's dimensions.  \n",
        "- **Axis Confusion**:  \n",
        "  Double-check which axis you're modifying (e.g., `axis=0` would affect rows, not channels).  "
      ],
      "metadata": {
        "id": "F00jhc3UTEEV"
      }
    },
    {
      "cell_type": "markdown",
      "source": [
        "## **8. Real-World Example: Stock Prices**"
      ],
      "metadata": {
        "id": "gK8-NDETTEEV"
      }
    },
    {
      "cell_type": "code",
      "source": [
        "# Simulate 5 days of stock prices for 3 companies\n",
        "stock_prices = np.array([\n",
        "    [150, 275, 42],  # Day 1\n",
        "    [152, 274, 41],  # Day 2\n",
        "    [153, 278, 40],  # Day 3\n",
        "    [151, 280, 39],  # Day 4\n",
        "    [155, 282, 38],  # Day 5\n",
        "])\n",
        "\n",
        "# Calculate daily changes\n",
        "daily_changes = np.diff(stock_prices, axis=0)\n",
        "print(\"Daily price changes:\\n\", daily_changes)   #[[ 2 -1 -1][ 1  4 -1][-2  2 -1][ 4  2 -1]]"
      ],
      "metadata": {
        "trusted": true,
        "execution": {
          "iopub.status.busy": "2025-03-24T07:52:59.34198Z",
          "iopub.execute_input": "2025-03-24T07:52:59.342328Z",
          "iopub.status.idle": "2025-03-24T07:52:59.349963Z",
          "shell.execute_reply.started": "2025-03-24T07:52:59.342304Z",
          "shell.execute_reply": "2025-03-24T07:52:59.348201Z"
        },
        "id": "cKXc4xniTEEW",
        "outputId": "4a1924b5-b74e-4948-9dcf-60442e0964ae",
        "colab": {
          "base_uri": "https://localhost:8080/"
        }
      },
      "outputs": [
        {
          "output_type": "stream",
          "name": "stdout",
          "text": [
            "Daily price changes:\n",
            " [[ 2 -1 -1]\n",
            " [ 1  4 -1]\n",
            " [-2  2 -1]\n",
            " [ 4  2 -1]]\n"
          ]
        }
      ],
      "execution_count": null
    },
    {
      "cell_type": "markdown",
      "source": [
        "##### Here’s a detailed breakdown of the **stock prices example** using NumPy:\n",
        "\n",
        "---\n",
        "\n",
        "### **Example Breakdown**  \n",
        "#### **1. Original Data**  \n",
        "```python\n",
        "stock_prices = np.array([\n",
        "    [150, 275, 42],  # Day 1\n",
        "    [152, 274, 41],  # Day 2\n",
        "    [153, 278, 40],  # Day 3\n",
        "    [151, 280, 39],  # Day 4\n",
        "    [155, 282, 38],  # Day 5\n",
        "])\n",
        "```  \n",
        "- **Shape**: `(5, 3)` (5 days × 3 companies).  \n",
        "- **Structure**:  \n",
        "  - Rows = Days (Day 1 to Day 5).  \n",
        "  - Columns = Companies (e.g., Company A, B, C).  \n",
        "\n",
        "---\n",
        "\n",
        "#### **2. Calculating Daily Changes**  \n",
        "```python\n",
        "daily_changes = np.diff(stock_prices, axis=0)\n",
        "```  \n",
        "- **`np.diff`** computes the **difference between consecutive elements** along a specified axis.  \n",
        "- **`axis=0`** means:  \n",
        "  - Compare **rows** (days) for each company.  \n",
        "  - Compute `Day 2 - Day 1`, `Day 3 - Day 2`, etc.  \n",
        "\n",
        "---\n",
        "\n",
        "#### **3. Result**  \n",
        "```python  \n",
        "daily_changes.shape → (4, 3)  \n",
        "daily_changes = [  \n",
        "  [ 2, -1, -1],  # Day 2 - Day 1  \n",
        "  [ 1,  4, -1],  # Day 3 - Day 2  \n",
        "  [-2,  2, -1],  # Day 4 - Day 3  \n",
        "  [ 4,  2, -1]   # Day 5 - Day 4  \n",
        "]  \n",
        "```  \n",
        "- **Shape reduction**: The result has **1 fewer row** (5 → 4) because differences are between consecutive days.  \n",
        "- **Interpretation**:  \n",
        "  - Each entry shows **daily price change** for a company.  \n",
        "  - Example:  \n",
        "    - Company 1 (first column):  \n",
        "      - Day 2: `152 - 150 = +2` (up).  \n",
        "      - Day 5: `155 - 151 = +4` (up.  \n",
        "\n",
        "---\n",
        "\n",
        "### **Key Concepts**  \n",
        "1. **`np.diff(axis=0)`**:  \n",
        "   - Subtracts each row from the next row along the vertical axis.  \n",
        "   - Formula: `daily_changes[i] = stock_prices[i+1] - stock_prices[i]`.  \n",
        "\n",
        "2. **Axis Parameter**:  \n",
        "   - `axis=0` → Operate **row-wise** (compare days).  \n",
        "   - `axis=1` (if used) would compare columns (companies) within the same day, which isn’t useful here.  \n",
        "\n",
        "3. **Dimensionality**:  \n",
        "   - Input shape: `(5, 3)` → Output shape: `(4, 3)` (reduced by 1 in the specified axis.  \n",
        "\n",
        "---\n",
        "\n",
        "### **Why This Matters**  \n",
        "- **Financial Analysis**:  \n",
        "  - Tracks how stock prices move **day-over-day**.  \n",
        "  - Helps identify trends (e.g., rising/falling stocks.  \n",
        "\n",
        "- **Data Preparation**:  \n",
        "  - Converts raw prices into **changes**, which is useful for analysis (e.g., volatility calculation.  \n",
        "\n",
        "---\n",
        "\n",
        "### **Common Questions**  \n",
        "**Q: What if `axis=1` is used instead?**  \n",
        "- Output shape would be `(5, 2)` (columns reduced by 1.  \n",
        "- This would compute differences **within each day** (e.g., compare Company B to A, Company C to B for the same day. Not meaningful for this use case.  \n",
        "\n",
        "**Q: How to calculate percentage change instead of absolute?**  \n",
        "```python  \n",
        "daily_percent_change = (np.diff(stock_prices, axis=0) / stock_prices[:-1]) * 100  \n",
        "```  \n",
        "- Uses `stock_prices[:-1]` to avoid division by zero (since `diff` reduces the first dimension.  \n",
        "\n",
        "---\n",
        "\n",
        "### **Visualization**  \n",
        "| Original Prices (5 days × 3 companies) | Daily Changes (4 days × 3 companies) |  \n",
        "|---------------------------------------|--------------------------------------|  \n",
        "| 150 | 275 | 42 → | **+2** | **-1** | **-1** (Day 2 - Day 1 |  \n",
        "| 152 | 274 | 41 → | **+1** | **+4** | **-1** (Day 3 - Day 2 |  \n",
        "| 153 | 278 | 40 → | **-2** | **+2** | **-1** (Day 4 - Day 3 |  \n",
        "| 151 | 280 | 39 → | **+4** | **+2** | **-1** (Day 5 - Day 4 |  \n",
        "| 155 | 282 | 38 | | | |  \n",
        "\n",
        "---\n",
        "\n",
        "### **Practice Exercise**  \n",
        "Try:  \n",
        "```python  \n",
        "# Calculate weekly average price  \n",
        "weekly_avg = stock_prices.mean(axis=0)  # Averages across days (rows.  \n",
        "print(\"Average price per company:\", weekly_avg)  \n",
        "```  \n",
        "This uses `axis=0` to collapse days into an average for each company."
      ],
      "metadata": {
        "id": "GmF6eYnBTEEW"
      }
    },
    {
      "cell_type": "markdown",
      "source": [
        "# My Next Notebook we will be discussing how to use matplotlib with numpy\n",
        "\n",
        "\n",
        "\n",
        "\n",
        "## **Notes**  \n",
        "### **When to Use NumPy + Matplotlib**  \n",
        "| Task | NumPy | Matplotlib |  \n",
        "|------|-------|------------|  \n",
        "| **Processing data** | ✅ Array operations (e.g., `.mean(axis=...)` | ❌ |  \n",
        "| **Visualizing trends** | ❌ | ✅ Plots, heatmaps, etc. |  \n",
        "\n",
        "\n",
        "---\n",
        "\n",
        "## **Summary**  \n",
        "- **NumPy** handles **data manipulation** (reshaping, calculations).  \n",
        "- **Matplotlib** handles **data visualization** (plots, heatmaps.  \n",
        "- Combine them to analyze and present data effectively.  \n",
        "\n",
        "---\n",
        "\n",
        "\n",
        "\n",
        "\n",
        "## Upcoming Topics: Using NumPy with Matplotlib\n",
        "\n",
        "In the next notebook, we will delve deeper into how NumPy and Matplotlib can be used together to create powerful visualizations for real-world data analysis. We will build upon the concepts and examples discussed in this notebook to explore more advanced plotting techniques and data visualization methods.\n",
        "\n",
        "### Recap of Real-World Examples\n",
        "\n",
        "#### Real-World Example: Image Processing\n",
        "- **Objective**: Convert an RGB image to a grayscale image.\n",
        "- **Process**:\n",
        "  - Generated a random RGB image using NumPy.\n",
        "  - Converted the RGB image to grayscale by computing the mean of the color channels.\n",
        "  - Displayed both the original RGB image and the grayscale image using Matplotlib.\n",
        "- **Key Concepts**:\n",
        "  - NumPy for generating and manipulating image data.\n",
        "  - Matplotlib for displaying images and customizing plots.\n",
        "\n",
        "#### Real-World Example: Stock Prices\n",
        "- **Objective**: Analyze and visualize stock prices and daily changes.\n",
        "- **Process**:\n",
        "  - Created a NumPy array containing stock prices for multiple companies over several days.\n",
        "  - Calculated daily changes using `np.diff`.\n",
        "  - Plotted the stock prices over time and the daily changes with colored bars indicating positive (green) or negative (red) changes.\n",
        "- **Key Concepts**:\n",
        "  - NumPy for numerical operations and data manipulation.\n",
        "  - Matplotlib for creating line plots and bar charts with custom colors and labels.\n",
        "\n",
        "### What's Next?\n",
        "In the next notebook, we will explore more advanced topics, including:\n",
        "- Creating complex visualizations with multiple subplots.\n",
        "- Using different types of plots (e.g., histograms, scatter plots).\n",
        "- Customizing plots with annotations, legends, and color maps.\n",
        "- Integrating NumPy and Matplotlib for real-world data analysis.\n",
        "\n",
        "Stay tuned for more insights and practical examples on how to leverage NumPy and Matplotlib for data visualization!\n",
        "\n",
        "---\n"
      ],
      "metadata": {
        "id": "MUhLDZxHTEEW"
      }
    },
    {
      "cell_type": "markdown",
      "source": [
        "## Real-World Example: Image Processing"
      ],
      "metadata": {
        "id": "NL1oHMUETEEW"
      }
    },
    {
      "cell_type": "code",
      "source": [
        "import numpy as np\n",
        "import matplotlib.pyplot as plt\n",
        "\n",
        "# Simulate an RGB image (3D array: height x width x channels)\n",
        "rgb_image = np.random.randint(0, 256, (100, 100, 3), dtype=np.uint8)\n",
        "\n",
        "# Convert to grayscale (2D array: height x width)\n",
        "# Use np.mean to compute the mean and then convert the result to uint8\n",
        "grayscale = np.mean(rgb_image, axis=2).astype(np.uint8)\n",
        "\n",
        "# Display using Matplotlib\n",
        "plt.figure(figsize=(10, 4))\n",
        "\n",
        "plt.subplot(1, 2, 1)\n",
        "plt.imshow(rgb_image)\n",
        "plt.title(\"Original RGB Image\")\n",
        "plt.axis(\"off\")\n",
        "\n",
        "plt.subplot(1, 2, 2)\n",
        "plt.imshow(grayscale, cmap=\"gray\")\n",
        "plt.title(\"Grayscale Image\")\n",
        "plt.axis(\"off\")\n",
        "\n",
        "plt.show()"
      ],
      "metadata": {
        "trusted": true,
        "execution": {
          "iopub.status.busy": "2025-03-24T07:59:58.877237Z",
          "iopub.execute_input": "2025-03-24T07:59:58.877591Z",
          "iopub.status.idle": "2025-03-24T07:59:59.161688Z",
          "shell.execute_reply.started": "2025-03-24T07:59:58.877562Z",
          "shell.execute_reply": "2025-03-24T07:59:59.160664Z"
        },
        "id": "1VAK5wAdTEEW",
        "outputId": "ac52c1cb-d510-4b3b-fde2-9d62caaafaf4",
        "colab": {
          "base_uri": "https://localhost:8080/",
          "height": 367
        }
      },
      "outputs": [
        {
          "output_type": "display_data",
          "data": {
            "text/plain": [
              "<Figure size 1000x400 with 2 Axes>"
            ],
            "image/png": "[encoded data removed]"
          },
          "metadata": {}
        }
      ],
      "execution_count": null
    },
    {
      "cell_type": "markdown",
      "source": [
        "## Real-World Example: Stock Prices"
      ],
      "metadata": {
        "id": "VPZS9HIKTEEX"
      }
    },
    {
      "cell_type": "code",
      "source": [
        "import numpy as np\n",
        "import matplotlib.pyplot as plt\n",
        "\n",
        "# Stock Prices Example\n",
        "stock_prices = np.array([\n",
        "    [150, 275, 42],\n",
        "    [152, 274, 41],\n",
        "    [153, 278, 40],\n",
        "    [151, 280, 39],\n",
        "    [155, 282, 38],\n",
        "])\n",
        "\n",
        "# Calculate daily changes\n",
        "daily_changes = np.diff(stock_prices, axis=0)\n",
        "\n",
        "# Plot prices\n",
        "plt.figure(figsize=(10, 5))\n",
        "\n",
        "# Prices over time\n",
        "plt.subplot(1, 2, 1)\n",
        "for i in range(stock_prices.shape[1]):\n",
        "    plt.plot(stock_prices[:, i], marker=\"o\", label=f\"Company {i+1}\")\n",
        "plt.title(\"Stock Prices\")\n",
        "plt.xlabel(\"Day\")\n",
        "plt.ylabel(\"Price\")\n",
        "plt.legend()\n",
        "\n",
        "# Daily changes\n",
        "plt.subplot(1, 2, 2)\n",
        "for i in range(daily_changes.shape[1]):\n",
        "    # Color bars green/red based on change\n",
        "    colors = [\"g\" if change > 0 else \"r\" for change in daily_changes[:, i]]\n",
        "    plt.bar(np.arange(len(daily_changes)), daily_changes[:, i], color=colors)\n",
        "plt.title(\"Daily Price Changes\")\n",
        "plt.xlabel(\"Day\")\n",
        "plt.ylabel(\"Change\")\n",
        "plt.xticks(ticks=np.arange(len(daily_changes)), labels=[\"Day 2-1\", \"Day 3-2\", \"Day 4-3\", \"Day 5-4\"])\n",
        "\n",
        "plt.tight_layout()\n",
        "plt.show()"
      ],
      "metadata": {
        "trusted": true,
        "execution": {
          "iopub.status.busy": "2025-03-24T08:15:16.304848Z",
          "iopub.execute_input": "2025-03-24T08:15:16.305226Z",
          "iopub.status.idle": "2025-03-24T08:15:16.755623Z",
          "shell.execute_reply.started": "2025-03-24T08:15:16.305201Z",
          "shell.execute_reply": "2025-03-24T08:15:16.754502Z"
        },
        "id": "Drv9wICVTEEX",
        "outputId": "e59175a8-80d3-4b78-bd6a-0a883669003a",
        "colab": {
          "base_uri": "https://localhost:8080/",
          "height": 507
        }
      },
      "outputs": [
        {
          "output_type": "display_data",
          "data": {
            "text/plain": [
              "<Figure size 1000x500 with 2 Axes>"
            ],
            "image/png": "[encoded data removed]"
          },
          "metadata": {}
        }
      ],
      "execution_count": null
    }
  ]
}